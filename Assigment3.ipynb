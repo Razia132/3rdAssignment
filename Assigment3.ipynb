{
  "nbformat": 4,
  "nbformat_minor": 0,
  "metadata": {
    "colab": {
      "provenance": [],
      "toc_visible": true
    },
    "kernelspec": {
      "name": "python3",
      "display_name": "Python 3"
    },
    "language_info": {
      "name": "python"
    }
  },
  "cells": [
    {
      "cell_type": "markdown",
      "source": [
        "# **Data Types and Structures Questions**\n",
        "1.What are data structures, and why are they important?\n",
        "\n",
        "-->Data structures are list,string,tuple,dictionary,array,stack,queue and some other .Data sructures are important for organising and storing data which can be further accessed and manipulated effictiently.\n",
        "\n",
        "2.Explain the difference between mutable and immutable data types with examples?\n",
        "\n",
        "-->Mutable data types-can be further modified once defined.\n",
        " Immutalbe data types-cannot be further modified once defined.\n",
        " example:list is a mutable data type l=[1,\"ram\",3.4]\n",
        " l.append(55),here the 55 element will be appended to the list l whereas if we defined immutable data type like tuple t=(1,\"ram\",3.4)\n",
        "  t.appen(55) , it gives error beacuse we don't have any built-in functions for modifying the elements in immutable data types.\n",
        "\n",
        "3.What are the main differences between lists and tuples in Python?\n",
        "\n",
        " -->lists - mutable,elements are in '[]',slower compared to tuples,built-in funtions for modifying ,does not ensures security.\n",
        "\n",
        " tupels - immutable,elements are in '()',faster compared to lists no built-in funtions for modifying ,ensures security.\n",
        "\n",
        "4.Describe how dictionaries store data?\n",
        "\n",
        "-->Dictionaries store data in the form of key,value pairs where key's act as indexes that means with the help of key we can access or modify values,keys are unique that means no duplicates in key's are allowed.example:dict={\"name\":\"ram\",\"age\":21,\"salary\":100000} ,elements are enclosed in '{ }'\n",
        "\n",
        "5.Why might you use a set instead of a list in Python?\n",
        "\n",
        "-->we use sets when we don't need any duplicate values and only unique values are required.\n",
        "\n",
        "6.What is a string in Python, and how is it different from a list?\n",
        "\n",
        "-->string is a sequence of characters,it is different from a list beacuase string is immutable where as list is mutable.\n",
        "\n",
        "7.How do tuples ensure data integrity in Python?\n",
        "\n",
        "-->Tuples ensure data integrity in Python by providing mechanism called \"Immutablility\".\n",
        "\n",
        "8.What is a hash table, and how does it relate to dictionaries in Python?\n",
        "\n",
        "-->hash table is a data structure with stores key-value pairs,and dictionaries are using tables internally\n",
        "\n",
        "9.Can lists contain different data types in Python?\n",
        "\n",
        "--> yes Lists contain different data types in python which allows heterogeneous data to be stored and also manipulated and also allows accessing the data in a easier way Example : L=[1,\"3.6\",\"ram\"]\n",
        "\n",
        "10.Explain why strings are immutable in Python?\n",
        "\n",
        "-->making sure the data is secure and also encrypted and memory effictient.\n",
        "\n",
        "11.What advantages do dictionaries offer over lists for certain tasks?\n",
        "\n",
        "-->Dictionary provides faster lookups that is O(1)complexity whereas lists provide O(N) complexity and the key values should be unique whereas the elements in the lists can be duplicates but if dictionary does not provide any duplicates ensuring the unique elements.\n",
        "\n",
        "12.Describe a scenario where using a tuple would be preferable over a list?\n",
        "\n",
        "--> The scenario where using would be preferable over lists When a person's age will be changed for each yearthe elements can be considered in the lists whereas a person's Aadhar card number will not be changed for the lifetime so it will be taken in the tuple and also the other example would be pi value which is universal and cannot be changed by anyone it will be considered in the tuple\n",
        "\n",
        "13.H0w do sets handle duplicate values in Python?\n",
        "\n",
        "--> Set users a hash table to store the values when a new element is added then its checks if the element is existed or not if it does not exist then it adds and if it exists then it doesn't.\n",
        "\n",
        "14.How does the “in” keyword work differently for lists and dictionaries?\n",
        "\n",
        "-->IN lists keyword \"in\" Means it searches the value in linear search where as dictionaries uses faster lookups using hash tables which only checks the keys and returns if an value is found\n",
        "\n",
        "15. Can you modify the elements of a tuple? Explain why or why not?\n",
        "\n",
        "--> No we cannot modify the elements of a tuple Because the elements in tuple are immutable if we even try to add or remove the elements that is modify the elements it gives error if we wanted to change the elements we can do it indirectly by changing the elements of tuple to lists and then modify it\n",
        "\n",
        "16.What is a nested dictionary, and give an example of its use case?\n",
        "\n",
        "--> Nested dictionary means a key has internal dictionary within that it is used in the many applications like for example if we take a restaurant where dish1 Contains name , Cost ,about the dish and  reviews, dish2 contains name cost and so on we take dish1 as a key in which there is an internal dictionary that is nested dictionary which contains the information about the dish1like wise nested dictionary's work in many applications.\n",
        "\n",
        "17Describe the time complexity of accessing elements in a dictionary?\n",
        "\n",
        "--> O(1) Because we use hash tables for storing the elements in dictionaries which gives faster lookups.\n",
        "\n",
        "18.In what situations are lists preferred over dictionaries?\n",
        "\n",
        "--> List preferred over dictionaries when dealing with duplicate values irrespective of time complexity. Also the elements in lists are ordered that means we can access the elements in lists by using index values whereas dictionaries we can access the elements using key's.\n",
        "\n",
        "19.Why are dictionaries considered unordered, and how does that affect data retrieval?\n",
        "\n",
        "--> Dictionary is considered as an ordered because the elements that is the keys should not be duplicates and only unique keys. So we cannot access the elements using index values instead we can only access the elements by using keys.\n",
        "\n",
        "20.Explain the difference between a list and a dictionary in terms of data retrieval?\n",
        "\n",
        "--> The elements in lists are accessed using index values because the elements in lists are ordered and also it does allow duplicates whereas the dictionary is elements are accessed using keys Because the elements in dictionaries are unordered and also it does not allow any duplicate case as it uses hash tables for storing if a new key entered then it checks the Hash table if the key is new then it adds to the dictionary that is the hash table if it is duplicate it simply ignores.\n",
        "\n",
        "\n",
        "\n",
        "\n"
      ],
      "metadata": {
        "id": "HFQWWvZNbH0d"
      }
    },
    {
      "cell_type": "code",
      "execution_count": 4,
      "metadata": {
        "colab": {
          "base_uri": "https://localhost:8080/"
        },
        "id": "80O9Yt8AbBQM",
        "outputId": "ff20c645-f35f-474d-e89e-33b6d507938b"
      },
      "outputs": [
        {
          "output_type": "stream",
          "name": "stdout",
          "text": [
            "Razia\n"
          ]
        }
      ],
      "source": [
        "#Data Types and Structures Questions\n",
        "#1.Write a code to create a string with your name and print it\n",
        "my_name=\"Razia\"\n",
        "print(my_name)"
      ]
    },
    {
      "cell_type": "code",
      "source": [
        "#2.Write a code to find the length of the string \"Hello World\"P\n",
        "s=\"Hello world\"\n",
        "c=0\n",
        "for i in s:\n",
        "  c=c+1\n",
        "print(c)\n"
      ],
      "metadata": {
        "colab": {
          "base_uri": "https://localhost:8080/"
        },
        "id": "hpuAIy2KbB5_",
        "outputId": "c4e5c014-3da4-46a1-bcde-036f23dc9774"
      },
      "execution_count": 7,
      "outputs": [
        {
          "output_type": "stream",
          "name": "stdout",
          "text": [
            "11\n"
          ]
        }
      ]
    },
    {
      "cell_type": "code",
      "source": [
        "#3.Write a code to slice the first 3 characters from the string \"Python Programming\"\n",
        "str=\"Python Programming\"\n",
        "str[3:]\n"
      ],
      "metadata": {
        "colab": {
          "base_uri": "https://localhost:8080/",
          "height": 36
        },
        "id": "cOlfEoIUbB8k",
        "outputId": "aa21c784-3951-4628-9b31-8fb4f6d2ace0"
      },
      "execution_count": 9,
      "outputs": [
        {
          "output_type": "execute_result",
          "data": {
            "text/plain": [
              "'hon Programming'"
            ],
            "application/vnd.google.colaboratory.intrinsic+json": {
              "type": "string"
            }
          },
          "metadata": {},
          "execution_count": 9
        }
      ]
    },
    {
      "cell_type": "code",
      "source": [
        "#4.Write a code to convert the string \"hello\" to uppercase\n",
        "s=\"hello\"\n",
        "s.upper()"
      ],
      "metadata": {
        "colab": {
          "base_uri": "https://localhost:8080/",
          "height": 36
        },
        "id": "900cGXKtbB_a",
        "outputId": "a0815c05-87e8-4aed-a2a6-e122e87e0c1f"
      },
      "execution_count": 11,
      "outputs": [
        {
          "output_type": "execute_result",
          "data": {
            "text/plain": [
              "'HELLO'"
            ],
            "application/vnd.google.colaboratory.intrinsic+json": {
              "type": "string"
            }
          },
          "metadata": {},
          "execution_count": 11
        }
      ]
    },
    {
      "cell_type": "code",
      "source": [
        "#5.Write a code to replace the word \"apple\" with \"orange\" in the string \"I like apple\"\n",
        "s=\"I like apple\"\n",
        "s.replace(\"apple\",\"orange\")"
      ],
      "metadata": {
        "colab": {
          "base_uri": "https://localhost:8080/",
          "height": 36
        },
        "id": "L_vpdw7qbCFO",
        "outputId": "ad01f2e9-ae7f-472f-ae4e-7781bda61e9d"
      },
      "execution_count": 15,
      "outputs": [
        {
          "output_type": "execute_result",
          "data": {
            "text/plain": [
              "'I like orange'"
            ],
            "application/vnd.google.colaboratory.intrinsic+json": {
              "type": "string"
            }
          },
          "metadata": {},
          "execution_count": 15
        }
      ]
    },
    {
      "cell_type": "code",
      "source": [
        "#6.Write a code to create a list with numbers 1 to 5 and print it\n",
        "l=[]\n",
        "for i in range(1,6):\n",
        "  l.append(i)\n",
        "print(l)\n"
      ],
      "metadata": {
        "colab": {
          "base_uri": "https://localhost:8080/"
        },
        "id": "UYwotLtSbCIT",
        "outputId": "2a7e4c5a-27ea-4789-ec4c-31f41609ab84"
      },
      "execution_count": 18,
      "outputs": [
        {
          "output_type": "stream",
          "name": "stdout",
          "text": [
            "[1, 2, 3, 4, 5]\n"
          ]
        }
      ]
    },
    {
      "cell_type": "code",
      "source": [
        "#7.Write a code to append the number 10 to the list [1, 2, 3, 4]\n",
        "l=[1,2,3,4,5]\n",
        "l.append(10)\n",
        "l\n"
      ],
      "metadata": {
        "colab": {
          "base_uri": "https://localhost:8080/"
        },
        "id": "Ad80dFARbCKy",
        "outputId": "5b28bd67-62ab-407e-ffd9-b59b4416ebad"
      },
      "execution_count": 21,
      "outputs": [
        {
          "output_type": "execute_result",
          "data": {
            "text/plain": [
              "[1, 2, 3, 4, 5, 10]"
            ]
          },
          "metadata": {},
          "execution_count": 21
        }
      ]
    },
    {
      "cell_type": "code",
      "source": [
        "#8.Write a code to remove the number 3 from the list [1, 2, 3, 4, 5]\n",
        "l=[1,2,3,4,5]\n",
        "l.remove(3)\n",
        "l"
      ],
      "metadata": {
        "colab": {
          "base_uri": "https://localhost:8080/"
        },
        "id": "OPQTrV-ybCOF",
        "outputId": "07bb13ad-87cd-4c9a-9044-31e9340381e6"
      },
      "execution_count": 24,
      "outputs": [
        {
          "output_type": "execute_result",
          "data": {
            "text/plain": [
              "[1, 2, 4, 5]"
            ]
          },
          "metadata": {},
          "execution_count": 24
        }
      ]
    },
    {
      "cell_type": "code",
      "source": [
        "#9.Write a code to access the second element in the list ['a', 'b', 'c', 'd']\n",
        "l=['a','b','c','d']\n",
        "l[1]"
      ],
      "metadata": {
        "colab": {
          "base_uri": "https://localhost:8080/",
          "height": 36
        },
        "id": "2GLWHCfebCQy",
        "outputId": "a8b1b3ac-dc15-4115-fb4a-6c9461353dfd"
      },
      "execution_count": 25,
      "outputs": [
        {
          "output_type": "execute_result",
          "data": {
            "text/plain": [
              "'b'"
            ],
            "application/vnd.google.colaboratory.intrinsic+json": {
              "type": "string"
            }
          },
          "metadata": {},
          "execution_count": 25
        }
      ]
    },
    {
      "cell_type": "code",
      "source": [
        "#10.Write a code to reverse the list [10, 20, 30, 40, 50]\n",
        "l=[10,20,30,40,50]\n",
        "l[::-1]"
      ],
      "metadata": {
        "colab": {
          "base_uri": "https://localhost:8080/"
        },
        "id": "bncAbGFIbCTg",
        "outputId": "46e39677-1634-4212-b3cc-673f227b4b30"
      },
      "execution_count": 27,
      "outputs": [
        {
          "output_type": "execute_result",
          "data": {
            "text/plain": [
              "[50, 40, 30, 20, 10]"
            ]
          },
          "metadata": {},
          "execution_count": 27
        }
      ]
    },
    {
      "cell_type": "code",
      "source": [
        "#11.Write a code to create a tuple with the elements 100, 200, 300 and print it\n",
        "ty=(100,200,300)\n",
        "ty\n"
      ],
      "metadata": {
        "colab": {
          "base_uri": "https://localhost:8080/"
        },
        "id": "pi3gU6dpbCWn",
        "outputId": "9d6616ec-14af-4080-f537-cea4dbb3dfd3"
      },
      "execution_count": 29,
      "outputs": [
        {
          "output_type": "execute_result",
          "data": {
            "text/plain": [
              "(100, 200, 300)"
            ]
          },
          "metadata": {},
          "execution_count": 29
        }
      ]
    },
    {
      "cell_type": "code",
      "source": [
        "#12.Write a code to access the second-to-last element of the tuple ('red', 'green', 'blue', 'yellow').\n",
        "tup=('red','green','blue','yellow')\n",
        "print(tup[1:])"
      ],
      "metadata": {
        "colab": {
          "base_uri": "https://localhost:8080/"
        },
        "id": "trYZbb9KbCaA",
        "outputId": "41927dce-795b-472c-ee74-14fc952c42f0"
      },
      "execution_count": 33,
      "outputs": [
        {
          "output_type": "stream",
          "name": "stdout",
          "text": [
            "('green', 'blue', 'yellow')\n"
          ]
        }
      ]
    },
    {
      "cell_type": "code",
      "source": [
        "#13.Write a code to find the minimum number in the tuple (10, 20, 5, 15).\n",
        "from functools import reduce\n",
        "min1=(10,20,5,15)\n",
        "reduce(lambda x,y:y if x>y else x,min1)"
      ],
      "metadata": {
        "colab": {
          "base_uri": "https://localhost:8080/"
        },
        "id": "1Hx00IT9eG3a",
        "outputId": "ff662ffd-8e5a-4af9-eb13-27823eae277b"
      },
      "execution_count": 36,
      "outputs": [
        {
          "output_type": "execute_result",
          "data": {
            "text/plain": [
              "5"
            ]
          },
          "metadata": {},
          "execution_count": 36
        }
      ]
    },
    {
      "cell_type": "code",
      "source": [
        "#14.Write a code to find the index of the element \"cat\" in the tuple ('dog', 'cat', 'rabbit').\n",
        "tup=('dog', 'cat', 'rabbit')\n",
        "tup.index('cat')"
      ],
      "metadata": {
        "colab": {
          "base_uri": "https://localhost:8080/"
        },
        "id": "KnhWA7fCeG6I",
        "outputId": "a5471c13-154c-4166-a2b5-53524f9a6602"
      },
      "execution_count": 38,
      "outputs": [
        {
          "output_type": "execute_result",
          "data": {
            "text/plain": [
              "1"
            ]
          },
          "metadata": {},
          "execution_count": 38
        }
      ]
    },
    {
      "cell_type": "code",
      "source": [
        "#15.Write a code to create a tuple containing three different fruits and check if \"kiwi\" is in it\n",
        "tup=('orange','kiwi','apple')\n",
        "'kiwi' in tup"
      ],
      "metadata": {
        "colab": {
          "base_uri": "https://localhost:8080/"
        },
        "id": "IklC7OSfeG8y",
        "outputId": "8eddfecd-86c6-470d-bf95-4173badce28a"
      },
      "execution_count": 40,
      "outputs": [
        {
          "output_type": "execute_result",
          "data": {
            "text/plain": [
              "True"
            ]
          },
          "metadata": {},
          "execution_count": 40
        }
      ]
    },
    {
      "cell_type": "code",
      "source": [
        "#16.write a code to create a set with the elements 'a', 'b', 'c' and print it.\n",
        "s1={'a','b','c'}\n",
        "s1"
      ],
      "metadata": {
        "colab": {
          "base_uri": "https://localhost:8080/"
        },
        "id": "EHJEwX8SeHAZ",
        "outputId": "779583e1-6d05-4da5-906b-eda940073075"
      },
      "execution_count": 42,
      "outputs": [
        {
          "output_type": "execute_result",
          "data": {
            "text/plain": [
              "{'a', 'b', 'c'}"
            ]
          },
          "metadata": {},
          "execution_count": 42
        }
      ]
    },
    {
      "cell_type": "code",
      "source": [
        "#17.Write a code to clear all elements from the set {1, 2, 3, 4, 5}.\n",
        "s1={1,2,3,4,5}\n",
        "s1.clear()\n",
        "print(s1)"
      ],
      "metadata": {
        "colab": {
          "base_uri": "https://localhost:8080/"
        },
        "id": "de4ZGGcReMwV",
        "outputId": "af87aea3-ea0c-47f0-df66-e55edf781112"
      },
      "execution_count": 45,
      "outputs": [
        {
          "output_type": "stream",
          "name": "stdout",
          "text": [
            "set()\n"
          ]
        }
      ]
    },
    {
      "cell_type": "code",
      "source": [
        "#18.Write a code to remove the element 4 from the set {1, 2, 3, 4}.\n",
        "s1={1,2,3,4}\n",
        "s1.remove(4)\n",
        "s1"
      ],
      "metadata": {
        "colab": {
          "base_uri": "https://localhost:8080/"
        },
        "id": "epiMNMp8eMzG",
        "outputId": "3a601d47-707c-4d68-d3b0-2ba0a68f391b"
      },
      "execution_count": 46,
      "outputs": [
        {
          "output_type": "execute_result",
          "data": {
            "text/plain": [
              "{1, 2, 3}"
            ]
          },
          "metadata": {},
          "execution_count": 46
        }
      ]
    },
    {
      "cell_type": "code",
      "source": [
        "#19.Write a code to find the union of two sets {1, 2, 3} and {3, 4, 5}.\n",
        "s1={1,2,3}\n",
        "s2={3,4,5}\n",
        "print(s1|s2)"
      ],
      "metadata": {
        "colab": {
          "base_uri": "https://localhost:8080/"
        },
        "id": "bFgWbHaoeM1r",
        "outputId": "89651cda-3970-41de-bbc8-01e6090074f3"
      },
      "execution_count": 49,
      "outputs": [
        {
          "output_type": "stream",
          "name": "stdout",
          "text": [
            "{1, 2, 3, 4, 5}\n"
          ]
        }
      ]
    },
    {
      "cell_type": "code",
      "source": [
        "#20.Write a code to find the intersection of two sets {1, 2, 3} and {2, 3, 4}\n",
        "s1={1,2,3}\n",
        "s2={3,4,5}\n",
        "print(s1&s2)"
      ],
      "metadata": {
        "colab": {
          "base_uri": "https://localhost:8080/"
        },
        "id": "uXkftG48eM4D",
        "outputId": "32cec684-6405-4a86-e015-2af114160dc8"
      },
      "execution_count": 51,
      "outputs": [
        {
          "output_type": "stream",
          "name": "stdout",
          "text": [
            "{3}\n"
          ]
        }
      ]
    },
    {
      "cell_type": "code",
      "source": [
        "#21. Write a code to create a dictionary with the keys \"name\", \"age\", and \"city\", and print it.\n",
        "dic1={\"name\":\"Razia\",\"age\":21,\"city\":\"Hyderabad\"}\n",
        "dic1"
      ],
      "metadata": {
        "colab": {
          "base_uri": "https://localhost:8080/"
        },
        "id": "sLTkrtDeeM65",
        "outputId": "1ef0017f-1f22-43f6-9c4f-94d184fdb75c"
      },
      "execution_count": 52,
      "outputs": [
        {
          "output_type": "execute_result",
          "data": {
            "text/plain": [
              "{'name': 'Razia', 'age': 21, 'city': 'Hyderabad'}"
            ]
          },
          "metadata": {},
          "execution_count": 52
        }
      ]
    },
    {
      "cell_type": "code",
      "source": [
        "#22.Write a code to add a new key-value pair \"country\": \"USA\" to the dictionary {'name': 'John', 'age': 25}\n",
        "di1={'name': 'John', 'age': 25}\n",
        "di1[\"country\"]=\"USA\"\n",
        "di1"
      ],
      "metadata": {
        "colab": {
          "base_uri": "https://localhost:8080/"
        },
        "id": "k6XhLV7MeM9x",
        "outputId": "63778678-d861-42cd-d958-f31dcd0de2f2"
      },
      "execution_count": 56,
      "outputs": [
        {
          "output_type": "execute_result",
          "data": {
            "text/plain": [
              "{'name': 'John', 'age': 25, 'country': 'USA'}"
            ]
          },
          "metadata": {},
          "execution_count": 56
        }
      ]
    },
    {
      "cell_type": "code",
      "source": [
        "#23.Write a code to access the value associated with the key \"name\" in the dictionary {'name': 'Alice', 'age': 30}.\n",
        "di2={'name': 'Alice', 'age': 30}\n",
        "di2[\"name\"]\n"
      ],
      "metadata": {
        "colab": {
          "base_uri": "https://localhost:8080/",
          "height": 36
        },
        "id": "A00c5sDxeNGL",
        "outputId": "62f59609-7001-46bc-e792-e0f27935a1c1"
      },
      "execution_count": 60,
      "outputs": [
        {
          "output_type": "execute_result",
          "data": {
            "text/plain": [
              "'Alice'"
            ],
            "application/vnd.google.colaboratory.intrinsic+json": {
              "type": "string"
            }
          },
          "metadata": {},
          "execution_count": 60
        }
      ]
    },
    {
      "cell_type": "code",
      "source": [
        "#24.Write a code to remove the key \"age\" from the dictionary {'name': 'Bob', 'age': 22, 'city': 'New York'}.\n",
        "dic3={'name': 'Bob', 'age': 22, 'city': 'New York'}\n",
        "dic3.pop(\"age\")\n",
        "dic3"
      ],
      "metadata": {
        "colab": {
          "base_uri": "https://localhost:8080/"
        },
        "id": "SM8R8aU7eNL8",
        "outputId": "0f5d0cf0-cdff-4132-dcfb-07099cfe8d99"
      },
      "execution_count": 63,
      "outputs": [
        {
          "output_type": "execute_result",
          "data": {
            "text/plain": [
              "{'name': 'Bob', 'city': 'New York'}"
            ]
          },
          "metadata": {},
          "execution_count": 63
        }
      ]
    },
    {
      "cell_type": "code",
      "source": [
        "#25.Write a code to check if the key \"city\" exists in the dictionary {'name': 'Alice', 'city': 'Paris'}.\n",
        "dic4={'name': 'Alice', 'city': 'Paris'}\n",
        "\"city\" in dic4"
      ],
      "metadata": {
        "colab": {
          "base_uri": "https://localhost:8080/"
        },
        "id": "oG-Uj1eKeNOd",
        "outputId": "5f71db6d-3e81-4c34-9821-8ecc6a23243e"
      },
      "execution_count": 64,
      "outputs": [
        {
          "output_type": "execute_result",
          "data": {
            "text/plain": [
              "True"
            ]
          },
          "metadata": {},
          "execution_count": 64
        }
      ]
    },
    {
      "cell_type": "code",
      "source": [
        "#26. Write a code to create a list, a tuple, and a dictionary, and print them all.\n",
        "l1=[1,2,3]\n",
        "t1=(1,2,3)\n",
        "d1={\"name\":\"Razia\",\"age\":21}\n",
        "print(l1,t1,d1)\n"
      ],
      "metadata": {
        "colab": {
          "base_uri": "https://localhost:8080/"
        },
        "id": "wgrZDMFqeNRW",
        "outputId": "8321adc7-c818-4688-9cb5-6be2423f3c9a"
      },
      "execution_count": 65,
      "outputs": [
        {
          "output_type": "stream",
          "name": "stdout",
          "text": [
            "[1, 2, 3] (1, 2, 3) {'name': 'Razia', 'age': 21}\n"
          ]
        }
      ]
    },
    {
      "cell_type": "code",
      "source": [
        "#27.Write a code to create a list of 5 random numbers between 1 and 100, sort it in ascending order, and print the result.(replaced)\n",
        "import random\n",
        "l1=[]\n",
        "for i in range(5):\n",
        "  l1.append(random.randint(1,100))\n",
        "l1.sort()\n",
        "print(l1)\n"
      ],
      "metadata": {
        "colab": {
          "base_uri": "https://localhost:8080/"
        },
        "id": "or12kn_UeNUN",
        "outputId": "0f937ab6-69e7-4852-aa82-83038b72ab5c"
      },
      "execution_count": 67,
      "outputs": [
        {
          "output_type": "stream",
          "name": "stdout",
          "text": [
            "[7, 32, 38, 39, 86]\n"
          ]
        }
      ]
    },
    {
      "cell_type": "code",
      "source": [
        "#28.Write a code to create a list with strings and print the element at the third index\n",
        "l2=[\"razia\",\"sk\",\"muskan\"]\n",
        "l2[2]"
      ],
      "metadata": {
        "colab": {
          "base_uri": "https://localhost:8080/",
          "height": 36
        },
        "id": "1mazzt8reNXD",
        "outputId": "3867ec89-65de-4a3c-9755-da4bdd617aa6"
      },
      "execution_count": 68,
      "outputs": [
        {
          "output_type": "execute_result",
          "data": {
            "text/plain": [
              "'muskan'"
            ],
            "application/vnd.google.colaboratory.intrinsic+json": {
              "type": "string"
            }
          },
          "metadata": {},
          "execution_count": 68
        }
      ]
    },
    {
      "cell_type": "code",
      "source": [
        "#29. Write a code to combine two dictionaries into one and print the result.\n",
        "dic1={\"name\":\"razia\",\"age\":21}\n",
        "dic2={\"city\":\"Hyderabad\",\"country\":\"India\"}\n",
        "dic1.update(dic2)\n",
        "dic1\n"
      ],
      "metadata": {
        "colab": {
          "base_uri": "https://localhost:8080/"
        },
        "id": "LRspgT2AeNZ8",
        "outputId": "45898fbe-7d8b-4506-e216-891171da6b5d"
      },
      "execution_count": 69,
      "outputs": [
        {
          "output_type": "execute_result",
          "data": {
            "text/plain": [
              "{'name': 'razia', 'age': 21, 'city': 'Hyderabad', 'country': 'India'}"
            ]
          },
          "metadata": {},
          "execution_count": 69
        }
      ]
    },
    {
      "cell_type": "code",
      "source": [
        "#30.Write a code to convert a list of strings into a set.\n",
        "l1=[\"razia\",\"muskan\",\"sk\"]\n",
        "set(l1)"
      ],
      "metadata": {
        "colab": {
          "base_uri": "https://localhost:8080/"
        },
        "id": "H3bH0XKNeNcq",
        "outputId": "e9bcd742-ab94-40a6-d4c7-a0ebfd3680e3"
      },
      "execution_count": 70,
      "outputs": [
        {
          "output_type": "execute_result",
          "data": {
            "text/plain": [
              "{'muskan', 'razia', 'sk'}"
            ]
          },
          "metadata": {},
          "execution_count": 70
        }
      ]
    }
  ]
}